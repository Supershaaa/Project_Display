{
 "cells": [
  {
   "cell_type": "markdown",
   "metadata": {},
   "source": [
    "# The Relationship Between Housing Prices and Earthquakes in California\n",
    "\n",
    "https://youtu.be/OOG0OHy6NYc"
   ]
  },
  {
   "cell_type": "markdown",
   "metadata": {},
   "source": [
    "## Permissions\n",
    "\n",
    "Place an `X` in the appropriate bracket below to specify if you would like your group's project to be made available to the public. (Note that student names will be included (but PIDs will be scraped from any groups who include their PIDs).\n",
    "\n",
    "* [  ] YES - make available\n",
    "* [X] NO - keep private"
   ]
  },
  {
   "cell_type": "markdown",
   "metadata": {},
   "source": [
    "# Overview"
   ]
  },
  {
   "cell_type": "markdown",
   "metadata": {},
   "source": [
    "This project studied the relationship between housing prices and earthquake frequencies and magnitudes. We combined housing prices dataset and earthquake dataset by the same latitude and longitude areas and the years. After the process of data cleaning, data analysis and data visualization, we found that __the house in an area that has more earthquakes has a higher average price__. The detailed explanation is shown below. "
   ]
  },
  {
   "cell_type": "markdown",
   "metadata": {},
   "source": [
    "# Names\n",
    "\n",
    "- Yuxin Guo\n",
    "- Sha Lei\n",
    "- Jingxian Wang\n",
    "- Jiayi Zhang"
   ]
  },
  {
   "cell_type": "markdown",
   "metadata": {},
   "source": [
    "<a id='research_question'></a>\n",
    "# Research Question"
   ]
  },
  {
   "cell_type": "markdown",
   "metadata": {},
   "source": [
    "How does magnitude and frequency of earthquakes affect housing prices in California?"
   ]
  },
  {
   "cell_type": "markdown",
   "metadata": {},
   "source": [
    "<a id='background'></a>\n",
    "\n",
    "## Background & Prior Work"
   ]
  },
  {
   "cell_type": "markdown",
   "metadata": {},
   "source": [
    "Before coming to San Diego, our group members had not really experienced any earthquakes. After experiencing several unexpected shaking due to earthquakes, we want to explore how earthquakes affect California destructively from the perspective of socioeconomics and people's behavior mechanisms. \n",
    "\n",
    "\n",
    "Nowadays, Seismologists use unequivocal precursory signals to predict an earthquake. They will note changes in the environment before earthquakes, like an increase in radon gas concentrations, changes in electromagnetic activity, foreshocks, measurable ground deformations, geochemical changes in groundwater, and even unusual animal behavior. However, according to the research of scientists, even though we develop many technologies and measures to detect the abnormalities before earthquakes, we still cannot precisely predict earthquakes; thus, the damages brought by earthquakes are unavoidable for both the city's economic development and inhabitants’ living experience. [^1]\n",
    "\n",
    "\n",
    "Before getting into deep research, based on our life experience, we hold a view that the housing market would be negatively affected by earthquakes since the earthquake, such a threatening and destructive natural disaster, is hard to predict and unavoidable. Additionally, earthquakes provide a spatial differentiation of the impact on the quality of life according to the earthquake intensity.[^2] Hence, we expect that people might decide to move to areas affected by less or no earthquakes, leading to lower local house prices. \n",
    "\n",
    "\n",
    "However, as the process of research continues, different theories that explain the relationship between earthquakes and housing prices caught our attention.  An exceptional case study mentioned in \"Earthquakes and House Prices\" indicates that in areas that experience less severe earthquakes, the house price even increases since the real estate agents increase the insurance fee in the name of protecting the community against the upcoming earthquakes.[^3] It is almost opposite to our expectation of the relationship between the earthquake and the housing price. And we consider it worthwhile to explore how people would take action against the damage brought by earthquakes and affect the real estate market. Therefore, it leads to our research question - how the earthquake shaking intensity, magnitude, frequency, and duration affect housing prices in California. \n",
    "\n",
    "References (include links):\n",
    "- 1) Cheung, Ron, et al. “Earthquakes and House Prices: Evidence from Oklahoma.” Working Paper (Federal Reserve Bank of Cleveland), 2016, https://doi.org/10.26509/frbc-wp-201631. \n",
    "- 2) Boelhouwer, Peter, and Harry van der Heijden. “The Effect of Earthquakes on the Housing Market and the Quality of Life in the Province of Groningen, The Netherlands.” Journal of Housing and the Built Environment : HBE, Springer Netherlands, 2018, https://www.ncbi.nlm.nih.gov/pmc/articles/PMC5943382/. \n",
    "- 3) Bressan, David. “Why Can't We Predict Earthquakes?” Forbes, Forbes Magazine, 24 Nov. 2017,  https://www.forbes.com/sites/davidbressan/2017/11/24/why-cant-we-predict-earthquakes/?sh=6b4afc126332.  \n",
    "\n"
   ]
  },
  {
   "cell_type": "markdown",
   "metadata": {},
   "source": [
    "# Hypothesis\n"
   ]
  },
  {
   "cell_type": "markdown",
   "metadata": {},
   "source": [
    "We predict that there is a relationship between housing price and earthquake magnitude and frequency in different regions of California. The region with more earthquakes will have a higher housing price and the region with fewer earthquakes will have a lower housing price. "
   ]
  },
  {
   "cell_type": "markdown",
   "metadata": {},
   "source": [
    "# Dataset(s)"
   ]
  },
  {
   "cell_type": "markdown",
   "metadata": {},
   "source": [
    "Dataset name: California Housing Prices\n",
    "- Link to the dataset: https://www.kaggle.com/datasets/camnugent/california-housing-prices\n",
    "- Number of observations: 20640\n",
    "- Variables: longitude, latitude, housingmedianage, total_rooms, total_bedrooms, population, households, median_income, medianhousevalue, cean_proximity\n",
    "- Dataset description: The data in this dataset was collected by 1990 California census. This dataset is not cleaned, further data cleaning steps requir. This dataset contains data relative to location of the house, housing agency, housing area, households income and ocean proximity. The name of columns are self explanitory. \n",
    "\n",
    "Dataset name: Earthquake_data\n",
    "- Link to the dataset: https://earthquake.usgs.gov/earthquakes/search/\n",
    "- Number of observations: 11638\n",
    "- Variables: time, latitude, longitude, depth, mag, magType, nst, gap, dmin, rms, net, id, updated, place, type, horizontalError, depthError, magError, magNst, status, locationSource, magSource\n",
    "- Dataset description: The data in this dataset was collected by the United States Geological Survey. We used the USGS website to filter the earthquake magnitude, date and time and geographic region to collect data we want. Important details about the earthquake such as location, magnitude, intensiy and depth are included. The name of columns are self explanitory. \n",
    "\n",
    "We plan to combine those two datasets by selecting the years and the range of the longitude and altitude."
   ]
  },
  {
   "cell_type": "markdown",
   "metadata": {},
   "source": [
    "# Setup"
   ]
  },
  {
   "cell_type": "code",
   "execution_count": 1,
   "metadata": {},
   "outputs": [],
   "source": [
    "import os\n",
    "import pandas as pd\n",
    "import numpy as np\n",
    "import matplotlib.pyplot as plt\n",
    "import seaborn as sns\n",
    "from scipy.stats import ks_2samp\n",
    "\n",
    "import patsy \n",
    "import statsmodels.api as sm \n",
    "import statsmodels.formula.api as smf\n",
    "\n",
    "import warnings\n",
    "warnings.simplefilter('ignore')"
   ]
  },
  {
   "cell_type": "code",
   "execution_count": 2,
   "metadata": {
    "scrolled": true
   },
   "outputs": [
    {
     "data": {
      "text/html": [
       "<div>\n",
       "<style scoped>\n",
       "    .dataframe tbody tr th:only-of-type {\n",
       "        vertical-align: middle;\n",
       "    }\n",
       "\n",
       "    .dataframe tbody tr th {\n",
       "        vertical-align: top;\n",
       "    }\n",
       "\n",
       "    .dataframe thead th {\n",
       "        text-align: right;\n",
       "    }\n",
       "</style>\n",
       "<table border=\"1\" class=\"dataframe\">\n",
       "  <thead>\n",
       "    <tr style=\"text-align: right;\">\n",
       "      <th></th>\n",
       "      <th>time</th>\n",
       "      <th>latitude</th>\n",
       "      <th>longitude</th>\n",
       "      <th>depth</th>\n",
       "      <th>mag</th>\n",
       "      <th>magType</th>\n",
       "      <th>nst</th>\n",
       "      <th>gap</th>\n",
       "      <th>dmin</th>\n",
       "      <th>rms</th>\n",
       "      <th>...</th>\n",
       "      <th>updated</th>\n",
       "      <th>place</th>\n",
       "      <th>type</th>\n",
       "      <th>horizontalError</th>\n",
       "      <th>depthError</th>\n",
       "      <th>magError</th>\n",
       "      <th>magNst</th>\n",
       "      <th>status</th>\n",
       "      <th>locationSource</th>\n",
       "      <th>magSource</th>\n",
       "    </tr>\n",
       "  </thead>\n",
       "  <tbody>\n",
       "    <tr>\n",
       "      <th>0</th>\n",
       "      <td>1989-12-31T21:14:44.080Z</td>\n",
       "      <td>36.937</td>\n",
       "      <td>-121.6825</td>\n",
       "      <td>11.571</td>\n",
       "      <td>2.89</td>\n",
       "      <td>md</td>\n",
       "      <td>94.0</td>\n",
       "      <td>56.0</td>\n",
       "      <td>0.01712</td>\n",
       "      <td>0.070</td>\n",
       "      <td>...</td>\n",
       "      <td>2016-12-10T03:06:41.470Z</td>\n",
       "      <td>4 km ESE of Interlaken, California</td>\n",
       "      <td>earthquake</td>\n",
       "      <td>0.14</td>\n",
       "      <td>0.260</td>\n",
       "      <td>0.11</td>\n",
       "      <td>96.0</td>\n",
       "      <td>reviewed</td>\n",
       "      <td>nc</td>\n",
       "      <td>nc</td>\n",
       "    </tr>\n",
       "    <tr>\n",
       "      <th>1</th>\n",
       "      <td>1989-12-31T14:38:18.260Z</td>\n",
       "      <td>33.772</td>\n",
       "      <td>-115.9900</td>\n",
       "      <td>4.510</td>\n",
       "      <td>2.60</td>\n",
       "      <td>mc</td>\n",
       "      <td>0.0</td>\n",
       "      <td>141.3</td>\n",
       "      <td>NaN</td>\n",
       "      <td>0.072</td>\n",
       "      <td>...</td>\n",
       "      <td>2016-02-03T23:49:17.760Z</td>\n",
       "      <td>20km ENE of Coachella, CA</td>\n",
       "      <td>earthquake</td>\n",
       "      <td>NaN</td>\n",
       "      <td>0.012</td>\n",
       "      <td>NaN</td>\n",
       "      <td>12.0</td>\n",
       "      <td>reviewed</td>\n",
       "      <td>ci</td>\n",
       "      <td>ci</td>\n",
       "    </tr>\n",
       "    <tr>\n",
       "      <th>2</th>\n",
       "      <td>1989-12-31T13:32:43.250Z</td>\n",
       "      <td>33.769</td>\n",
       "      <td>-115.9940</td>\n",
       "      <td>4.832</td>\n",
       "      <td>2.50</td>\n",
       "      <td>mc</td>\n",
       "      <td>0.0</td>\n",
       "      <td>89.3</td>\n",
       "      <td>NaN</td>\n",
       "      <td>0.053</td>\n",
       "      <td>...</td>\n",
       "      <td>2016-02-03T21:53:32.250Z</td>\n",
       "      <td>19km ENE of Coachella, CA</td>\n",
       "      <td>earthquake</td>\n",
       "      <td>NaN</td>\n",
       "      <td>0.007</td>\n",
       "      <td>NaN</td>\n",
       "      <td>17.0</td>\n",
       "      <td>reviewed</td>\n",
       "      <td>ci</td>\n",
       "      <td>ci</td>\n",
       "    </tr>\n",
       "    <tr>\n",
       "      <th>3</th>\n",
       "      <td>1989-12-31T12:54:12.920Z</td>\n",
       "      <td>33.501</td>\n",
       "      <td>-116.4680</td>\n",
       "      <td>5.907</td>\n",
       "      <td>2.65</td>\n",
       "      <td>mc</td>\n",
       "      <td>0.0</td>\n",
       "      <td>176.3</td>\n",
       "      <td>NaN</td>\n",
       "      <td>0.217</td>\n",
       "      <td>...</td>\n",
       "      <td>2016-02-04T05:03:58.700Z</td>\n",
       "      <td>20km ESE of Anza, CA</td>\n",
       "      <td>earthquake</td>\n",
       "      <td>NaN</td>\n",
       "      <td>0.175</td>\n",
       "      <td>NaN</td>\n",
       "      <td>62.0</td>\n",
       "      <td>reviewed</td>\n",
       "      <td>ci</td>\n",
       "      <td>ci</td>\n",
       "    </tr>\n",
       "    <tr>\n",
       "      <th>4</th>\n",
       "      <td>1989-12-31T12:53:51.490Z</td>\n",
       "      <td>33.484</td>\n",
       "      <td>-116.4440</td>\n",
       "      <td>7.275</td>\n",
       "      <td>3.15</td>\n",
       "      <td>mc</td>\n",
       "      <td>0.0</td>\n",
       "      <td>27.1</td>\n",
       "      <td>NaN</td>\n",
       "      <td>0.130</td>\n",
       "      <td>...</td>\n",
       "      <td>2016-02-03T19:54:57.290Z</td>\n",
       "      <td>23km ESE of Anza, CA</td>\n",
       "      <td>earthquake</td>\n",
       "      <td>NaN</td>\n",
       "      <td>0.025</td>\n",
       "      <td>NaN</td>\n",
       "      <td>84.0</td>\n",
       "      <td>reviewed</td>\n",
       "      <td>ci</td>\n",
       "      <td>ci</td>\n",
       "    </tr>\n",
       "  </tbody>\n",
       "</table>\n",
       "<p>5 rows × 22 columns</p>\n",
       "</div>"
      ],
      "text/plain": [
       "                       time  latitude  longitude   depth   mag magType   nst  \\\n",
       "0  1989-12-31T21:14:44.080Z    36.937  -121.6825  11.571  2.89      md  94.0   \n",
       "1  1989-12-31T14:38:18.260Z    33.772  -115.9900   4.510  2.60      mc   0.0   \n",
       "2  1989-12-31T13:32:43.250Z    33.769  -115.9940   4.832  2.50      mc   0.0   \n",
       "3  1989-12-31T12:54:12.920Z    33.501  -116.4680   5.907  2.65      mc   0.0   \n",
       "4  1989-12-31T12:53:51.490Z    33.484  -116.4440   7.275  3.15      mc   0.0   \n",
       "\n",
       "     gap     dmin    rms  ...                   updated  \\\n",
       "0   56.0  0.01712  0.070  ...  2016-12-10T03:06:41.470Z   \n",
       "1  141.3      NaN  0.072  ...  2016-02-03T23:49:17.760Z   \n",
       "2   89.3      NaN  0.053  ...  2016-02-03T21:53:32.250Z   \n",
       "3  176.3      NaN  0.217  ...  2016-02-04T05:03:58.700Z   \n",
       "4   27.1      NaN  0.130  ...  2016-02-03T19:54:57.290Z   \n",
       "\n",
       "                                place        type horizontalError depthError  \\\n",
       "0  4 km ESE of Interlaken, California  earthquake            0.14      0.260   \n",
       "1           20km ENE of Coachella, CA  earthquake             NaN      0.012   \n",
       "2           19km ENE of Coachella, CA  earthquake             NaN      0.007   \n",
       "3                20km ESE of Anza, CA  earthquake             NaN      0.175   \n",
       "4                23km ESE of Anza, CA  earthquake             NaN      0.025   \n",
       "\n",
       "   magError  magNst    status  locationSource magSource  \n",
       "0      0.11    96.0  reviewed              nc        nc  \n",
       "1       NaN    12.0  reviewed              ci        ci  \n",
       "2       NaN    17.0  reviewed              ci        ci  \n",
       "3       NaN    62.0  reviewed              ci        ci  \n",
       "4       NaN    84.0  reviewed              ci        ci  \n",
       "\n",
       "[5 rows x 22 columns]"
      ]
     },
     "execution_count": 2,
     "metadata": {},
     "output_type": "execute_result"
    }
   ],
   "source": [
    "earthquakes_data = pd.read_csv('data/earthquake_data.csv')\n",
    "earthquakes_data.head()"
   ]
  },
  {
   "cell_type": "code",
   "execution_count": 3,
   "metadata": {},
   "outputs": [
    {
     "data": {
      "text/html": [
       "<div>\n",
       "<style scoped>\n",
       "    .dataframe tbody tr th:only-of-type {\n",
       "        vertical-align: middle;\n",
       "    }\n",
       "\n",
       "    .dataframe tbody tr th {\n",
       "        vertical-align: top;\n",
       "    }\n",
       "\n",
       "    .dataframe thead th {\n",
       "        text-align: right;\n",
       "    }\n",
       "</style>\n",
       "<table border=\"1\" class=\"dataframe\">\n",
       "  <thead>\n",
       "    <tr style=\"text-align: right;\">\n",
       "      <th></th>\n",
       "      <th>longitude</th>\n",
       "      <th>latitude</th>\n",
       "      <th>housing_median_age</th>\n",
       "      <th>total_rooms</th>\n",
       "      <th>total_bedrooms</th>\n",
       "      <th>population</th>\n",
       "      <th>households</th>\n",
       "      <th>median_income</th>\n",
       "      <th>median_house_value</th>\n",
       "      <th>ocean_proximity</th>\n",
       "    </tr>\n",
       "  </thead>\n",
       "  <tbody>\n",
       "    <tr>\n",
       "      <th>0</th>\n",
       "      <td>-122.23</td>\n",
       "      <td>37.88</td>\n",
       "      <td>41.0</td>\n",
       "      <td>880.0</td>\n",
       "      <td>129.0</td>\n",
       "      <td>322.0</td>\n",
       "      <td>126.0</td>\n",
       "      <td>8.3252</td>\n",
       "      <td>452600.0</td>\n",
       "      <td>NEAR BAY</td>\n",
       "    </tr>\n",
       "    <tr>\n",
       "      <th>1</th>\n",
       "      <td>-122.22</td>\n",
       "      <td>37.86</td>\n",
       "      <td>21.0</td>\n",
       "      <td>7099.0</td>\n",
       "      <td>1106.0</td>\n",
       "      <td>2401.0</td>\n",
       "      <td>1138.0</td>\n",
       "      <td>8.3014</td>\n",
       "      <td>358500.0</td>\n",
       "      <td>NEAR BAY</td>\n",
       "    </tr>\n",
       "    <tr>\n",
       "      <th>2</th>\n",
       "      <td>-122.24</td>\n",
       "      <td>37.85</td>\n",
       "      <td>52.0</td>\n",
       "      <td>1467.0</td>\n",
       "      <td>190.0</td>\n",
       "      <td>496.0</td>\n",
       "      <td>177.0</td>\n",
       "      <td>7.2574</td>\n",
       "      <td>352100.0</td>\n",
       "      <td>NEAR BAY</td>\n",
       "    </tr>\n",
       "    <tr>\n",
       "      <th>3</th>\n",
       "      <td>-122.25</td>\n",
       "      <td>37.85</td>\n",
       "      <td>52.0</td>\n",
       "      <td>1274.0</td>\n",
       "      <td>235.0</td>\n",
       "      <td>558.0</td>\n",
       "      <td>219.0</td>\n",
       "      <td>5.6431</td>\n",
       "      <td>341300.0</td>\n",
       "      <td>NEAR BAY</td>\n",
       "    </tr>\n",
       "    <tr>\n",
       "      <th>4</th>\n",
       "      <td>-122.25</td>\n",
       "      <td>37.85</td>\n",
       "      <td>52.0</td>\n",
       "      <td>1627.0</td>\n",
       "      <td>280.0</td>\n",
       "      <td>565.0</td>\n",
       "      <td>259.0</td>\n",
       "      <td>3.8462</td>\n",
       "      <td>342200.0</td>\n",
       "      <td>NEAR BAY</td>\n",
       "    </tr>\n",
       "  </tbody>\n",
       "</table>\n",
       "</div>"
      ],
      "text/plain": [
       "   longitude  latitude  housing_median_age  total_rooms  total_bedrooms  \\\n",
       "0    -122.23     37.88                41.0        880.0           129.0   \n",
       "1    -122.22     37.86                21.0       7099.0          1106.0   \n",
       "2    -122.24     37.85                52.0       1467.0           190.0   \n",
       "3    -122.25     37.85                52.0       1274.0           235.0   \n",
       "4    -122.25     37.85                52.0       1627.0           280.0   \n",
       "\n",
       "   population  households  median_income  median_house_value ocean_proximity  \n",
       "0       322.0       126.0         8.3252            452600.0        NEAR BAY  \n",
       "1      2401.0      1138.0         8.3014            358500.0        NEAR BAY  \n",
       "2       496.0       177.0         7.2574            352100.0        NEAR BAY  \n",
       "3       558.0       219.0         5.6431            341300.0        NEAR BAY  \n",
       "4       565.0       259.0         3.8462            342200.0        NEAR BAY  "
      ]
     },
     "execution_count": 3,
     "metadata": {},
     "output_type": "execute_result"
    }
   ],
   "source": [
    "housing = pd.read_csv('data/housing.csv')\n",
    "housing.head()"
   ]
  },
  {
   "cell_type": "markdown",
   "metadata": {},
   "source": [
    "# Data Cleaning"
   ]
  },
  {
   "cell_type": "markdown",
   "metadata": {},
   "source": [
    "##### First, select the CA region from the `earthquakes_data` dataframe."
   ]
  },
  {
   "cell_type": "markdown",
   "metadata": {},
   "source": [
    "For this research, we only want to explore the relationship between housing prices and earthquakes in California. Thus, we want to filter the earthquake data which happened in California."
   ]
  },
  {
   "cell_type": "code",
   "execution_count": 4,
   "metadata": {},
   "outputs": [],
   "source": [
    "CA_earthquake = earthquakes_data[earthquakes_data['place'].str.contains('CA')|\\\n",
    "                                 earthquakes_data['place'].str.contains('California')]"
   ]
  },
  {
   "cell_type": "markdown",
   "metadata": {},
   "source": [
    "##### Second, remove useless variables in `CA_earthquake` DataFrame and set `id` as primary keys."
   ]
  },
  {
   "cell_type": "markdown",
   "metadata": {},
   "source": [
    "In this step, our goal is to remove all the useless columns. The variables we chose to remove are redundancy and unrelated with our topic. Removing them makes the further analysis more clearer and easier. "
   ]
  },
  {
   "cell_type": "code",
   "execution_count": 5,
   "metadata": {},
   "outputs": [
    {
     "data": {
      "text/html": [
       "<div>\n",
       "<style scoped>\n",
       "    .dataframe tbody tr th:only-of-type {\n",
       "        vertical-align: middle;\n",
       "    }\n",
       "\n",
       "    .dataframe tbody tr th {\n",
       "        vertical-align: top;\n",
       "    }\n",
       "\n",
       "    .dataframe thead th {\n",
       "        text-align: right;\n",
       "    }\n",
       "</style>\n",
       "<table border=\"1\" class=\"dataframe\">\n",
       "  <thead>\n",
       "    <tr style=\"text-align: right;\">\n",
       "      <th></th>\n",
       "      <th>time</th>\n",
       "      <th>latitude</th>\n",
       "      <th>longitude</th>\n",
       "      <th>mag</th>\n",
       "      <th>type</th>\n",
       "    </tr>\n",
       "    <tr>\n",
       "      <th>id</th>\n",
       "      <th></th>\n",
       "      <th></th>\n",
       "      <th></th>\n",
       "      <th></th>\n",
       "      <th></th>\n",
       "    </tr>\n",
       "  </thead>\n",
       "  <tbody>\n",
       "    <tr>\n",
       "      <th>nc149897</th>\n",
       "      <td>1989-12-31T21:14:44.080Z</td>\n",
       "      <td>36.937</td>\n",
       "      <td>-121.6825</td>\n",
       "      <td>2.89</td>\n",
       "      <td>earthquake</td>\n",
       "    </tr>\n",
       "    <tr>\n",
       "      <th>ci1048992</th>\n",
       "      <td>1989-12-31T14:38:18.260Z</td>\n",
       "      <td>33.772</td>\n",
       "      <td>-115.9900</td>\n",
       "      <td>2.60</td>\n",
       "      <td>earthquake</td>\n",
       "    </tr>\n",
       "    <tr>\n",
       "      <th>ci1048985</th>\n",
       "      <td>1989-12-31T13:32:43.250Z</td>\n",
       "      <td>33.769</td>\n",
       "      <td>-115.9940</td>\n",
       "      <td>2.50</td>\n",
       "      <td>earthquake</td>\n",
       "    </tr>\n",
       "    <tr>\n",
       "      <th>ci140492</th>\n",
       "      <td>1989-12-31T12:54:12.920Z</td>\n",
       "      <td>33.501</td>\n",
       "      <td>-116.4680</td>\n",
       "      <td>2.65</td>\n",
       "      <td>earthquake</td>\n",
       "    </tr>\n",
       "    <tr>\n",
       "      <th>ci1048984</th>\n",
       "      <td>1989-12-31T12:53:51.490Z</td>\n",
       "      <td>33.484</td>\n",
       "      <td>-116.4440</td>\n",
       "      <td>3.15</td>\n",
       "      <td>earthquake</td>\n",
       "    </tr>\n",
       "  </tbody>\n",
       "</table>\n",
       "</div>"
      ],
      "text/plain": [
       "                               time  latitude  longitude   mag        type\n",
       "id                                                                        \n",
       "nc149897   1989-12-31T21:14:44.080Z    36.937  -121.6825  2.89  earthquake\n",
       "ci1048992  1989-12-31T14:38:18.260Z    33.772  -115.9900  2.60  earthquake\n",
       "ci1048985  1989-12-31T13:32:43.250Z    33.769  -115.9940  2.50  earthquake\n",
       "ci140492   1989-12-31T12:54:12.920Z    33.501  -116.4680  2.65  earthquake\n",
       "ci1048984  1989-12-31T12:53:51.490Z    33.484  -116.4440  3.15  earthquake"
      ]
     },
     "execution_count": 5,
     "metadata": {},
     "output_type": "execute_result"
    }
   ],
   "source": [
    "CA_earthquake = CA_earthquake.drop(columns = ['depth', 'magType', 'nst', 'gap', 'dmin', 'rms', 'net', 'updated', 'place', \\\n",
    "                                              'horizontalError', 'depthError', 'magError', 'magNst', 'status',\\\n",
    "                                              'locationSource', 'magSource']).set_index('id')\n",
    "CA_earthquake.head()"
   ]
  },
  {
   "cell_type": "markdown",
   "metadata": {},
   "source": [
    "##### Third, update data type in `CA_earthquake` DataFrame"
   ]
  },
  {
   "cell_type": "markdown",
   "metadata": {},
   "source": [
    "In this step, we updated the `time` column in `CA_earthquake` DataFrame to `pd.Timestamp()` type for the process of later combination of datasets and analysis. We only select the year part from `time` data."
   ]
  },
  {
   "cell_type": "code",
   "execution_count": 6,
   "metadata": {},
   "outputs": [
    {
     "name": "stdout",
     "output_type": "stream",
     "text": [
      "<class 'pandas.core.frame.DataFrame'>\n",
      "Index: 10431 entries, nc149897 to ci57759\n",
      "Data columns (total 5 columns):\n",
      " #   Column     Non-Null Count  Dtype  \n",
      "---  ------     --------------  -----  \n",
      " 0   time       10431 non-null  object \n",
      " 1   latitude   10431 non-null  float64\n",
      " 2   longitude  10431 non-null  float64\n",
      " 3   mag        10431 non-null  float64\n",
      " 4   type       10431 non-null  object \n",
      "dtypes: float64(3), object(2)\n",
      "memory usage: 489.0+ KB\n"
     ]
    }
   ],
   "source": [
    "# demonstrate the current data type in CA_earthquake dataframe\n",
    "CA_earthquake.info()"
   ]
  },
  {
   "cell_type": "code",
   "execution_count": 7,
   "metadata": {},
   "outputs": [
    {
     "data": {
      "text/html": [
       "<div>\n",
       "<style scoped>\n",
       "    .dataframe tbody tr th:only-of-type {\n",
       "        vertical-align: middle;\n",
       "    }\n",
       "\n",
       "    .dataframe tbody tr th {\n",
       "        vertical-align: top;\n",
       "    }\n",
       "\n",
       "    .dataframe thead th {\n",
       "        text-align: right;\n",
       "    }\n",
       "</style>\n",
       "<table border=\"1\" class=\"dataframe\">\n",
       "  <thead>\n",
       "    <tr style=\"text-align: right;\">\n",
       "      <th></th>\n",
       "      <th>time</th>\n",
       "      <th>latitude</th>\n",
       "      <th>longitude</th>\n",
       "      <th>mag</th>\n",
       "      <th>type</th>\n",
       "    </tr>\n",
       "    <tr>\n",
       "      <th>id</th>\n",
       "      <th></th>\n",
       "      <th></th>\n",
       "      <th></th>\n",
       "      <th></th>\n",
       "      <th></th>\n",
       "    </tr>\n",
       "  </thead>\n",
       "  <tbody>\n",
       "    <tr>\n",
       "      <th>nc149897</th>\n",
       "      <td>1989</td>\n",
       "      <td>36.937</td>\n",
       "      <td>-121.6825</td>\n",
       "      <td>2.89</td>\n",
       "      <td>earthquake</td>\n",
       "    </tr>\n",
       "    <tr>\n",
       "      <th>ci1048992</th>\n",
       "      <td>1989</td>\n",
       "      <td>33.772</td>\n",
       "      <td>-115.9900</td>\n",
       "      <td>2.60</td>\n",
       "      <td>earthquake</td>\n",
       "    </tr>\n",
       "    <tr>\n",
       "      <th>ci1048985</th>\n",
       "      <td>1989</td>\n",
       "      <td>33.769</td>\n",
       "      <td>-115.9940</td>\n",
       "      <td>2.50</td>\n",
       "      <td>earthquake</td>\n",
       "    </tr>\n",
       "    <tr>\n",
       "      <th>ci140492</th>\n",
       "      <td>1989</td>\n",
       "      <td>33.501</td>\n",
       "      <td>-116.4680</td>\n",
       "      <td>2.65</td>\n",
       "      <td>earthquake</td>\n",
       "    </tr>\n",
       "    <tr>\n",
       "      <th>ci1048984</th>\n",
       "      <td>1989</td>\n",
       "      <td>33.484</td>\n",
       "      <td>-116.4440</td>\n",
       "      <td>3.15</td>\n",
       "      <td>earthquake</td>\n",
       "    </tr>\n",
       "  </tbody>\n",
       "</table>\n",
       "</div>"
      ],
      "text/plain": [
       "           time  latitude  longitude   mag        type\n",
       "id                                                    \n",
       "nc149897   1989    36.937  -121.6825  2.89  earthquake\n",
       "ci1048992  1989    33.772  -115.9900  2.60  earthquake\n",
       "ci1048985  1989    33.769  -115.9940  2.50  earthquake\n",
       "ci140492   1989    33.501  -116.4680  2.65  earthquake\n",
       "ci1048984  1989    33.484  -116.4440  3.15  earthquake"
      ]
     },
     "execution_count": 7,
     "metadata": {},
     "output_type": "execute_result"
    }
   ],
   "source": [
    "CA_earthquake['time'] = pd.to_datetime(CA_earthquake['time']).dt.year\n",
    "CA_earthquake.head()"
   ]
  },
  {
   "cell_type": "markdown",
   "metadata": {},
   "source": [
    "##### Finally, combine the `CA_earthquake` DataFrame and `housing` DataFrame and save the merged DataFrame into a new DataFrame called `housing_earthquake`."
   ]
  },
  {
   "cell_type": "markdown",
   "metadata": {},
   "source": [
    "In this project, we want to filter the range of the area around each housing location and calculate the total number of earthquakes that have happened in that area."
   ]
  },
  {
   "cell_type": "markdown",
   "metadata": {},
   "source": [
    "During the exploration process, we notice there are two types of earthquake, natural earthquakes and earthquakes caused by quarry blast. Thus we calculate the total number of each natural earthquakes and the earthquakes caused by quarry blast in each area. We put the total number of natural earthquakes in each area in a column called `earthquake`. And the total number of earthquakes caused by quarry blast in each area in a column called `quarry blast`."
   ]
  },
  {
   "cell_type": "markdown",
   "metadata": {},
   "source": [
    "After calculation and update the DataFrame, we saved the DataFrame into a new DataFrame called `housing_earthquake`."
   ]
  },
  {
   "cell_type": "code",
   "execution_count": 8,
   "metadata": {},
   "outputs": [],
   "source": [
    "result_mag = {'earthquake':[], 'quarry blast':[]}\n",
    "\n",
    "for row in np.arange(housing.shape[0]):\n",
    "    longitude_right = housing.iloc[row]['longitude'] + 0.1\n",
    "    longitude_left = housing.iloc[row]['longitude'] - 0.1\n",
    "    latitude_right = housing.iloc[row]['latitude'] + 0.1\n",
    "    latitude_left = housing.iloc[row]['latitude'] - 0.1\n",
    "    \n",
    "    type_result = CA_earthquake[(CA_earthquake['longitude'] >= longitude_left) & (CA_earthquake['longitude'] \\\n",
    "    <= longitude_right) & (CA_earthquake['latitude'] >= latitude_left) & (CA_earthquake['latitude'] \\\n",
    "    <= latitude_right)]['type'].value_counts()\n",
    "    \n",
    "    for key in result_mag.keys():\n",
    "        if key in type_result.keys():\n",
    "            result_mag[key].append(type_result[key]) \n",
    "        else:\n",
    "            result_mag[key].append(0)"
   ]
  },
  {
   "cell_type": "code",
   "execution_count": 9,
   "metadata": {},
   "outputs": [],
   "source": [
    "housing_earthquake = housing.copy()\n",
    "housing_earthquake['earthquake'] = result_mag['earthquake']\n",
    "housing_earthquake['quarry_blast'] = result_mag['quarry blast']\n",
    "housing_earthquake['total_earthquake'] = housing_earthquake['earthquake'] + housing_earthquake['quarry_blast']"
   ]
  },
  {
   "cell_type": "code",
   "execution_count": 10,
   "metadata": {},
   "outputs": [],
   "source": [
    "housing_earthquake.drop(columns = ['longitude', 'latitude', 'total_rooms', 'total_bedrooms', \\\n",
    "                                   'households', 'population'], inplace = True)"
   ]
  },
  {
   "cell_type": "code",
   "execution_count": 11,
   "metadata": {},
   "outputs": [],
   "source": [
    "def standardize_series(ser):\n",
    "    return (ser - ser.mean())/ser.std()"
   ]
  },
  {
   "cell_type": "code",
   "execution_count": 12,
   "metadata": {},
   "outputs": [],
   "source": [
    "housing_earthquake['housing_median_age'] = standardize_series(housing_earthquake['housing_median_age'])\n",
    "housing_earthquake['median_income'] = standardize_series(housing_earthquake['median_income'])\n",
    "housing_earthquake['earthquake'] = standardize_series(housing_earthquake['earthquake'])\n",
    "housing_earthquake['quarry_blast'] = standardize_series(housing_earthquake['quarry_blast'])\n",
    "housing_earthquake['median_house_value'] = standardize_series(housing_earthquake['median_house_value'])\n",
    "housing_earthquake['total_earthquake'] = standardize_series(housing_earthquake['total_earthquake'])"
   ]
  },
  {
   "cell_type": "code",
   "execution_count": 13,
   "metadata": {},
   "outputs": [
    {
     "data": {
      "text/html": [
       "<div>\n",
       "<style scoped>\n",
       "    .dataframe tbody tr th:only-of-type {\n",
       "        vertical-align: middle;\n",
       "    }\n",
       "\n",
       "    .dataframe tbody tr th {\n",
       "        vertical-align: top;\n",
       "    }\n",
       "\n",
       "    .dataframe thead th {\n",
       "        text-align: right;\n",
       "    }\n",
       "</style>\n",
       "<table border=\"1\" class=\"dataframe\">\n",
       "  <thead>\n",
       "    <tr style=\"text-align: right;\">\n",
       "      <th></th>\n",
       "      <th>housing_median_age</th>\n",
       "      <th>median_income</th>\n",
       "      <th>median_house_value</th>\n",
       "      <th>ocean_proximity</th>\n",
       "      <th>earthquake</th>\n",
       "      <th>quarry_blast</th>\n",
       "      <th>total_earthquake</th>\n",
       "    </tr>\n",
       "  </thead>\n",
       "  <tbody>\n",
       "    <tr>\n",
       "      <th>0</th>\n",
       "      <td>0.982119</td>\n",
       "      <td>2.344709</td>\n",
       "      <td>2.129580</td>\n",
       "      <td>NEAR BAY</td>\n",
       "      <td>0.066359</td>\n",
       "      <td>-0.17882</td>\n",
       "      <td>0.039857</td>\n",
       "    </tr>\n",
       "    <tr>\n",
       "      <th>1</th>\n",
       "      <td>-0.607004</td>\n",
       "      <td>2.332181</td>\n",
       "      <td>1.314124</td>\n",
       "      <td>NEAR BAY</td>\n",
       "      <td>0.113755</td>\n",
       "      <td>-0.17882</td>\n",
       "      <td>0.086760</td>\n",
       "    </tr>\n",
       "    <tr>\n",
       "      <th>2</th>\n",
       "      <td>1.856137</td>\n",
       "      <td>1.782656</td>\n",
       "      <td>1.258663</td>\n",
       "      <td>NEAR BAY</td>\n",
       "      <td>0.255943</td>\n",
       "      <td>-0.17882</td>\n",
       "      <td>0.227471</td>\n",
       "    </tr>\n",
       "    <tr>\n",
       "      <th>3</th>\n",
       "      <td>1.856137</td>\n",
       "      <td>0.932945</td>\n",
       "      <td>1.165072</td>\n",
       "      <td>NEAR BAY</td>\n",
       "      <td>0.113755</td>\n",
       "      <td>-0.17882</td>\n",
       "      <td>0.086760</td>\n",
       "    </tr>\n",
       "    <tr>\n",
       "      <th>4</th>\n",
       "      <td>1.856137</td>\n",
       "      <td>-0.012881</td>\n",
       "      <td>1.172871</td>\n",
       "      <td>NEAR BAY</td>\n",
       "      <td>0.113755</td>\n",
       "      <td>-0.17882</td>\n",
       "      <td>0.086760</td>\n",
       "    </tr>\n",
       "  </tbody>\n",
       "</table>\n",
       "</div>"
      ],
      "text/plain": [
       "   housing_median_age  median_income  median_house_value ocean_proximity  \\\n",
       "0            0.982119       2.344709            2.129580        NEAR BAY   \n",
       "1           -0.607004       2.332181            1.314124        NEAR BAY   \n",
       "2            1.856137       1.782656            1.258663        NEAR BAY   \n",
       "3            1.856137       0.932945            1.165072        NEAR BAY   \n",
       "4            1.856137      -0.012881            1.172871        NEAR BAY   \n",
       "\n",
       "   earthquake  quarry_blast  total_earthquake  \n",
       "0    0.066359      -0.17882          0.039857  \n",
       "1    0.113755      -0.17882          0.086760  \n",
       "2    0.255943      -0.17882          0.227471  \n",
       "3    0.113755      -0.17882          0.086760  \n",
       "4    0.113755      -0.17882          0.086760  "
      ]
     },
     "execution_count": 13,
     "metadata": {},
     "output_type": "execute_result"
    }
   ],
   "source": [
    "housing_earthquake.head()"
   ]
  },
  {
   "cell_type": "markdown",
   "metadata": {},
   "source": [
    "# Data Analysis & Results"
   ]
  },
  {
   "cell_type": "markdown",
   "metadata": {},
   "source": [
    "### Generate DataFrame Demonstration"
   ]
  },
  {
   "cell_type": "markdown",
   "metadata": {},
   "source": [
    "Glance the data in `housing_earthquake` "
   ]
  },
  {
   "cell_type": "code",
   "execution_count": 14,
   "metadata": {},
   "outputs": [
    {
     "data": {
      "text/html": [
       "<div>\n",
       "<style scoped>\n",
       "    .dataframe tbody tr th:only-of-type {\n",
       "        vertical-align: middle;\n",
       "    }\n",
       "\n",
       "    .dataframe tbody tr th {\n",
       "        vertical-align: top;\n",
       "    }\n",
       "\n",
       "    .dataframe thead th {\n",
       "        text-align: right;\n",
       "    }\n",
       "</style>\n",
       "<table border=\"1\" class=\"dataframe\">\n",
       "  <thead>\n",
       "    <tr style=\"text-align: right;\">\n",
       "      <th></th>\n",
       "      <th>housing_median_age</th>\n",
       "      <th>median_income</th>\n",
       "      <th>median_house_value</th>\n",
       "      <th>ocean_proximity</th>\n",
       "      <th>earthquake</th>\n",
       "      <th>quarry_blast</th>\n",
       "      <th>total_earthquake</th>\n",
       "    </tr>\n",
       "  </thead>\n",
       "  <tbody>\n",
       "    <tr>\n",
       "      <th>0</th>\n",
       "      <td>0.982119</td>\n",
       "      <td>2.344709</td>\n",
       "      <td>2.129580</td>\n",
       "      <td>NEAR BAY</td>\n",
       "      <td>0.066359</td>\n",
       "      <td>-0.17882</td>\n",
       "      <td>0.039857</td>\n",
       "    </tr>\n",
       "    <tr>\n",
       "      <th>1</th>\n",
       "      <td>-0.607004</td>\n",
       "      <td>2.332181</td>\n",
       "      <td>1.314124</td>\n",
       "      <td>NEAR BAY</td>\n",
       "      <td>0.113755</td>\n",
       "      <td>-0.17882</td>\n",
       "      <td>0.086760</td>\n",
       "    </tr>\n",
       "    <tr>\n",
       "      <th>2</th>\n",
       "      <td>1.856137</td>\n",
       "      <td>1.782656</td>\n",
       "      <td>1.258663</td>\n",
       "      <td>NEAR BAY</td>\n",
       "      <td>0.255943</td>\n",
       "      <td>-0.17882</td>\n",
       "      <td>0.227471</td>\n",
       "    </tr>\n",
       "    <tr>\n",
       "      <th>3</th>\n",
       "      <td>1.856137</td>\n",
       "      <td>0.932945</td>\n",
       "      <td>1.165072</td>\n",
       "      <td>NEAR BAY</td>\n",
       "      <td>0.113755</td>\n",
       "      <td>-0.17882</td>\n",
       "      <td>0.086760</td>\n",
       "    </tr>\n",
       "    <tr>\n",
       "      <th>4</th>\n",
       "      <td>1.856137</td>\n",
       "      <td>-0.012881</td>\n",
       "      <td>1.172871</td>\n",
       "      <td>NEAR BAY</td>\n",
       "      <td>0.113755</td>\n",
       "      <td>-0.17882</td>\n",
       "      <td>0.086760</td>\n",
       "    </tr>\n",
       "  </tbody>\n",
       "</table>\n",
       "</div>"
      ],
      "text/plain": [
       "   housing_median_age  median_income  median_house_value ocean_proximity  \\\n",
       "0            0.982119       2.344709            2.129580        NEAR BAY   \n",
       "1           -0.607004       2.332181            1.314124        NEAR BAY   \n",
       "2            1.856137       1.782656            1.258663        NEAR BAY   \n",
       "3            1.856137       0.932945            1.165072        NEAR BAY   \n",
       "4            1.856137      -0.012881            1.172871        NEAR BAY   \n",
       "\n",
       "   earthquake  quarry_blast  total_earthquake  \n",
       "0    0.066359      -0.17882          0.039857  \n",
       "1    0.113755      -0.17882          0.086760  \n",
       "2    0.255943      -0.17882          0.227471  \n",
       "3    0.113755      -0.17882          0.086760  \n",
       "4    0.113755      -0.17882          0.086760  "
      ]
     },
     "execution_count": 14,
     "metadata": {},
     "output_type": "execute_result"
    }
   ],
   "source": [
    "housing_earthquake.head()"
   ]
  },
  {
   "cell_type": "markdown",
   "metadata": {},
   "source": [
    "Descriptive statistics of `housing_earthquak`"
   ]
  },
  {
   "cell_type": "code",
   "execution_count": 15,
   "metadata": {},
   "outputs": [
    {
     "data": {
      "text/html": [
       "<div>\n",
       "<style scoped>\n",
       "    .dataframe tbody tr th:only-of-type {\n",
       "        vertical-align: middle;\n",
       "    }\n",
       "\n",
       "    .dataframe tbody tr th {\n",
       "        vertical-align: top;\n",
       "    }\n",
       "\n",
       "    .dataframe thead th {\n",
       "        text-align: right;\n",
       "    }\n",
       "</style>\n",
       "<table border=\"1\" class=\"dataframe\">\n",
       "  <thead>\n",
       "    <tr style=\"text-align: right;\">\n",
       "      <th></th>\n",
       "      <th>housing_median_age</th>\n",
       "      <th>median_income</th>\n",
       "      <th>median_house_value</th>\n",
       "      <th>earthquake</th>\n",
       "      <th>quarry_blast</th>\n",
       "      <th>total_earthquake</th>\n",
       "    </tr>\n",
       "  </thead>\n",
       "  <tbody>\n",
       "    <tr>\n",
       "      <th>count</th>\n",
       "      <td>2.064000e+04</td>\n",
       "      <td>2.064000e+04</td>\n",
       "      <td>2.064000e+04</td>\n",
       "      <td>2.064000e+04</td>\n",
       "      <td>2.064000e+04</td>\n",
       "      <td>2.064000e+04</td>\n",
       "    </tr>\n",
       "    <tr>\n",
       "      <th>mean</th>\n",
       "      <td>1.817399e-15</td>\n",
       "      <td>-2.526564e-14</td>\n",
       "      <td>3.767873e-16</td>\n",
       "      <td>-1.349254e-15</td>\n",
       "      <td>2.260522e-14</td>\n",
       "      <td>-5.663385e-15</td>\n",
       "    </tr>\n",
       "    <tr>\n",
       "      <th>std</th>\n",
       "      <td>1.000000e+00</td>\n",
       "      <td>1.000000e+00</td>\n",
       "      <td>1.000000e+00</td>\n",
       "      <td>1.000000e+00</td>\n",
       "      <td>1.000000e+00</td>\n",
       "      <td>1.000000e+00</td>\n",
       "    </tr>\n",
       "    <tr>\n",
       "      <th>min</th>\n",
       "      <td>-2.196127e+00</td>\n",
       "      <td>-1.774256e+00</td>\n",
       "      <td>-1.662601e+00</td>\n",
       "      <td>-5.497880e-01</td>\n",
       "      <td>-1.788196e-01</td>\n",
       "      <td>-5.698888e-01</td>\n",
       "    </tr>\n",
       "    <tr>\n",
       "      <th>25%</th>\n",
       "      <td>-8.453727e-01</td>\n",
       "      <td>-6.881019e-01</td>\n",
       "      <td>-7.561450e-01</td>\n",
       "      <td>-5.023921e-01</td>\n",
       "      <td>-1.788196e-01</td>\n",
       "      <td>-5.229853e-01</td>\n",
       "    </tr>\n",
       "    <tr>\n",
       "      <th>50%</th>\n",
       "      <td>2.864502e-02</td>\n",
       "      <td>-1.767908e-01</td>\n",
       "      <td>-2.353280e-01</td>\n",
       "      <td>-3.128085e-01</td>\n",
       "      <td>-1.788196e-01</td>\n",
       "      <td>-3.353713e-01</td>\n",
       "    </tr>\n",
       "    <tr>\n",
       "      <th>75%</th>\n",
       "      <td>6.642943e-01</td>\n",
       "      <td>4.592952e-01</td>\n",
       "      <td>5.014851e-01</td>\n",
       "      <td>1.896296e-02</td>\n",
       "      <td>-1.788196e-01</td>\n",
       "      <td>-7.046886e-03</td>\n",
       "    </tr>\n",
       "    <tr>\n",
       "      <th>max</th>\n",
       "      <td>1.856137e+00</td>\n",
       "      <td>5.858144e+00</td>\n",
       "      <td>2.540349e+00</td>\n",
       "      <td>2.044660e+01</td>\n",
       "      <td>8.170256e+01</td>\n",
       "      <td>2.020836e+01</td>\n",
       "    </tr>\n",
       "  </tbody>\n",
       "</table>\n",
       "</div>"
      ],
      "text/plain": [
       "       housing_median_age  median_income  median_house_value    earthquake  \\\n",
       "count        2.064000e+04   2.064000e+04        2.064000e+04  2.064000e+04   \n",
       "mean         1.817399e-15  -2.526564e-14        3.767873e-16 -1.349254e-15   \n",
       "std          1.000000e+00   1.000000e+00        1.000000e+00  1.000000e+00   \n",
       "min         -2.196127e+00  -1.774256e+00       -1.662601e+00 -5.497880e-01   \n",
       "25%         -8.453727e-01  -6.881019e-01       -7.561450e-01 -5.023921e-01   \n",
       "50%          2.864502e-02  -1.767908e-01       -2.353280e-01 -3.128085e-01   \n",
       "75%          6.642943e-01   4.592952e-01        5.014851e-01  1.896296e-02   \n",
       "max          1.856137e+00   5.858144e+00        2.540349e+00  2.044660e+01   \n",
       "\n",
       "       quarry_blast  total_earthquake  \n",
       "count  2.064000e+04      2.064000e+04  \n",
       "mean   2.260522e-14     -5.663385e-15  \n",
       "std    1.000000e+00      1.000000e+00  \n",
       "min   -1.788196e-01     -5.698888e-01  \n",
       "25%   -1.788196e-01     -5.229853e-01  \n",
       "50%   -1.788196e-01     -3.353713e-01  \n",
       "75%   -1.788196e-01     -7.046886e-03  \n",
       "max    8.170256e+01      2.020836e+01  "
      ]
     },
     "execution_count": 15,
     "metadata": {},
     "output_type": "execute_result"
    }
   ],
   "source": [
    "housing_earthquake.describe()"
   ]
  },
  {
   "cell_type": "markdown",
   "metadata": {},
   "source": [
    "Demonstrate columns, data type, non-null values and memory usage of `housing_earthquake` DataFrame."
   ]
  },
  {
   "cell_type": "code",
   "execution_count": 16,
   "metadata": {},
   "outputs": [
    {
     "name": "stdout",
     "output_type": "stream",
     "text": [
      "<class 'pandas.core.frame.DataFrame'>\n",
      "RangeIndex: 20640 entries, 0 to 20639\n",
      "Data columns (total 7 columns):\n",
      " #   Column              Non-Null Count  Dtype  \n",
      "---  ------              --------------  -----  \n",
      " 0   housing_median_age  20640 non-null  float64\n",
      " 1   median_income       20640 non-null  float64\n",
      " 2   median_house_value  20640 non-null  float64\n",
      " 3   ocean_proximity     20640 non-null  object \n",
      " 4   earthquake          20640 non-null  float64\n",
      " 5   quarry_blast        20640 non-null  float64\n",
      " 6   total_earthquake    20640 non-null  float64\n",
      "dtypes: float64(6), object(1)\n",
      "memory usage: 1.1+ MB\n"
     ]
    }
   ],
   "source": [
    "housing_earthquake.info()"
   ]
  },
  {
   "cell_type": "markdown",
   "metadata": {},
   "source": [
    "Demonstrate the dimensionality of the `housing_earthquake` DataFrame."
   ]
  },
  {
   "cell_type": "code",
   "execution_count": 17,
   "metadata": {},
   "outputs": [
    {
     "data": {
      "text/plain": [
       "(20640, 7)"
      ]
     },
     "execution_count": 17,
     "metadata": {},
     "output_type": "execute_result"
    }
   ],
   "source": [
    "housing_earthquake.shape"
   ]
  },
  {
   "cell_type": "markdown",
   "metadata": {},
   "source": [
    "### General Data Distribution"
   ]
  },
  {
   "cell_type": "markdown",
   "metadata": {},
   "source": [
    "In this analysis, we are going to demonstrate the relationship between the number of earthquakes and the housing prices. "
   ]
  },
  {
   "cell_type": "markdown",
   "metadata": {},
   "source": [
    "First, we are going to show the distribution of the magnitude of the earthquakes. Since we are going to demonstrate distribution for one variable for each graph, we choose to use histogram. "
   ]
  },
  {
   "cell_type": "markdown",
   "metadata": {},
   "source": [
    "The histogram below displays the frequency of the earthquakes magnitude of different levels. The numbers on the x-axis represent the magnitude of the earthquakes. The numbers on the y-axis represent frequency. We can see from the histogram, most of the magnitude of the earthquakes is between magnitude 2~3. Magnitude 2 has the highest frequency. Then as the magnitude increases, the frequency decreases. Ater magnitude 6, the frequency of earthquakes reaches zero."
   ]
  },
  {
   "cell_type": "code",
   "execution_count": 18,
   "metadata": {},
   "outputs": [
    {
     "data": {
      "text/plain": [
       "[Text(0.5, 0, 'Earthquake Magnitude'),\n",
       " Text(0, 0.5, 'Frequency'),\n",
       " Text(0.5, 1.0, 'Distribution of All Kinds of Earthquake Magnitude')]"
      ]
     },
     "execution_count": 18,
     "metadata": {},
     "output_type": "execute_result"
    },
    {
     "data": {
      "image/png": "[encoded data removed]",
      "text/plain": [
       "<Figure size 576x432 with 1 Axes>"
      ]
     },
     "metadata": {
      "needs_background": "light"
     },
     "output_type": "display_data"
    }
   ],
   "source": [
    "# figure size in inches\n",
    "plt.rcParams['figure.figsize'] = 8,6\n",
    "\n",
    "ax = sns.distplot(CA_earthquake['mag'], bins = 30, hist=True, kde=True, color='orange', \\\n",
    "             hist_kws={'edgecolor':'black'}, kde_kws={'linewidth':2})\n",
    "ax.set(xlabel='Earthquake Magnitude', \\\n",
    "       ylabel='Frequency', title=\"Distribution of All Kinds of Earthquake Magnitude\")"
   ]
  },
  {
   "cell_type": "code",
   "execution_count": 19,
   "metadata": {},
   "outputs": [
    {
     "data": {
      "text/plain": [
       "Text(0.5, 0.98, 'Distribution of Different Kind of Earthquakes')"
      ]
     },
     "execution_count": 19,
     "metadata": {},
     "output_type": "execute_result"
    },
    {
     "data": {
      "image/png": "[encoded data removed]",
      "text/plain": [
       "<Figure size 864x360 with 2 Axes>"
      ]
     },
     "metadata": {
      "needs_background": "light"
     },
     "output_type": "display_data"
    }
   ],
   "source": [
    "fig, axes = plt.subplots(1, 2, constrained_layout = True, figsize = [12, 5])\n",
    "\n",
    "# plot axes[0]\n",
    "sns.distplot(CA_earthquake[CA_earthquake['type'] == 'earthquake']['mag'], bins = 30, hist=True, kde=True, \\\n",
    "                  color='orange', hist_kws={'edgecolor':'black'}, kde_kws={'linewidth':2}, ax = axes[0])\n",
    "axes[0].set(xlabel='Magnitude', ylabel='Frequency', title=\"Distribution of Natual Earthquake Magnitude\")\n",
    "\n",
    "# plot axes[1]\n",
    "axes[1] = sns.distplot(CA_earthquake[CA_earthquake['type'] == 'quarry blast']['mag'], bins = 30, hist=True, kde=True, \\\n",
    "                  color='orange', hist_kws={'edgecolor':'black'}, kde_kws={'linewidth':2})\n",
    "axes[1].set(xlabel='Magnitude', ylabel='Frequency', title=\"Distribution of Quarry Blast Magnitude\")\n",
    "\n",
    "# add the title to fig\n",
    "fig.suptitle('Distribution of Different Kind of Earthquakes')"
   ]
  },
  {
   "cell_type": "markdown",
   "metadata": {},
   "source": [
    "During the process of analysis, we found that there are two different causes of earthquakes. One is natural earthquakes and the other is earthquakes caused by quarry blast."
   ]
  },
  {
   "cell_type": "markdown",
   "metadata": {},
   "source": [
    "The histogram below demonstrates the distribution of natural earthquakes. We can see that the distribution is kind of the same as the previous histogram distribution, which indicates that natural earthquakes occupy the most of the earthquakes. "
   ]
  },
  {
   "cell_type": "markdown",
   "metadata": {},
   "source": [
    "The histogram below demonstrates the frequency of earthquakes caused by quarry blast. The numbers on the x-axis represent the magnitude of the earthquake and the numbers on the y-axis represent the frequency of earthquakes happening. The distribution of the earthquake  magnitude is right tailed, which means that earthquake magnitude in range 2.5 to 2.7 has the highest frequency. As the earthquake magnitude increases, the frequency decreases and finally reaches zero. "
   ]
  },
  {
   "cell_type": "markdown",
   "metadata": {},
   "source": [
    "Then, we are going to show the distribution of the housing price."
   ]
  },
  {
   "cell_type": "markdown",
   "metadata": {},
   "source": [
    "The histogram below is the distribution of housing prices in California. The x-axis represents housing prices and the y-axis represents the frequency of earthquakes. The histogram shows that the housing prices is a bimodal distribution, which means there are two clearly separate groups visible in this histogram. One group is the housing prices in 90000 to 200000. Another group is the housing prices in 490000 to 500000. These two groups have the highest frequency. In the other words, most housing prices in California are within 90000 to 200000 or 490000 to 500000. The housing price has significant differences.The bimodal distribution may be related to earthquakes. But we need further analysis to explore it. "
   ]
  },
  {
   "cell_type": "code",
   "execution_count": 20,
   "metadata": {},
   "outputs": [
    {
     "data": {
      "text/plain": [
       "[Text(0.5, 0, 'Housing Price'),\n",
       " Text(0, 0.5, 'Frequency'),\n",
       " Text(0.5, 1.0, 'Distribution of Housing Price')]"
      ]
     },
     "execution_count": 20,
     "metadata": {},
     "output_type": "execute_result"
    },
    {
     "data": {
      "image/png": "[encoded data removed]",
      "text/plain": [
       "<Figure size 576x432 with 1 Axes>"
      ]
     },
     "metadata": {
      "needs_background": "light"
     },
     "output_type": "display_data"
    }
   ],
   "source": [
    "ax = sns.distplot(housing_earthquake['median_house_value'], bins = 30, hist=True, kde=True, \\\n",
    "                  color='brown', hist_kws={'edgecolor':'black'}, kde_kws={'linewidth':2})\n",
    "ax.set(xlabel='Housing Price', \\\n",
    "       ylabel='Frequency', title=\"Distribution of Housing Price\")"
   ]
  },
  {
   "cell_type": "markdown",
   "metadata": {},
   "source": [
    "### Remove Outliers"
   ]
  },
  {
   "cell_type": "markdown",
   "metadata": {},
   "source": [
    "During the distribution demonstration, we notice that there are outliers in the count of natural earthquakes and the count of earthquakes caused by quarry blast in different regions. In order to avoid the effect of outliers in our future analysis, we are going to remove the outliers before demonstrating two types of earthquake count distribution. "
   ]
  },
  {
   "cell_type": "code",
   "execution_count": 21,
   "metadata": {},
   "outputs": [
    {
     "data": {
      "text/plain": [
       "-0.178820     19135\n",
       " 0.146107       192\n",
       " 0.795959       157\n",
       " 5.019998       155\n",
       " 2.095663       149\n",
       " 1.445811       134\n",
       " 1.120885       125\n",
       " 2.420589       120\n",
       " 0.471033       109\n",
       " 2.745515       104\n",
       " 3.070442        48\n",
       " 1.770737        45\n",
       " 4.695072        44\n",
       " 3.395368        42\n",
       " 5.669850        18\n",
       " 5.344924        14\n",
       " 7.619407        10\n",
       " 5.994777         9\n",
       " 7.944333         7\n",
       " 6.319703         6\n",
       " 3.720294         4\n",
       " 12.493299        3\n",
       " 18.666895        2\n",
       " 4.370146         2\n",
       " 7.294481         1\n",
       " 11.518520        1\n",
       " 21.591230        1\n",
       " 13.143151        1\n",
       " 81.702560        1\n",
       " 6.644629         1\n",
       "Name: quarry_blast, dtype: int64"
      ]
     },
     "execution_count": 21,
     "metadata": {},
     "output_type": "execute_result"
    }
   ],
   "source": [
    "housing_earthquake['quarry_blast'].value_counts()"
   ]
  },
  {
   "cell_type": "code",
   "execution_count": 22,
   "metadata": {},
   "outputs": [],
   "source": [
    "# Remove outliers\n",
    "housing_earthquake = housing_earthquake[housing_earthquake['quarry_blast'] < 15]\n",
    "housing_earthquake = housing_earthquake[housing_earthquake['earthquake'] < 10]"
   ]
  },
  {
   "cell_type": "markdown",
   "metadata": {},
   "source": [
    "Let's take a look at earthquake count distribution in different regions after remove outliers."
   ]
  },
  {
   "cell_type": "markdown",
   "metadata": {},
   "source": [
    "The below histogram shows a right tailed distribution. It means that most regions have 0 to 5 earthquakes caused by quarry blast. "
   ]
  },
  {
   "cell_type": "code",
   "execution_count": 23,
   "metadata": {},
   "outputs": [
    {
     "data": {
      "text/plain": [
       "Text(0.5, 0.98, 'Distribution of Different Kind of Earthquakes')"
      ]
     },
     "execution_count": 23,
     "metadata": {},
     "output_type": "execute_result"
    },
    {
     "data": {
      "image/png": "[encoded data removed]",
      "text/plain": [
       "<Figure size 864x360 with 2 Axes>"
      ]
     },
     "metadata": {
      "needs_background": "light"
     },
     "output_type": "display_data"
    }
   ],
   "source": [
    "fig, axes = plt.subplots(1, 2, constrained_layout = True, figsize = [12, 5])\n",
    "\n",
    "# plot axes[0]\n",
    "sns.distplot(CA_earthquake[CA_earthquake['type'] == 'earthquake']['mag'], bins = 30, hist=True, kde=True, \\\n",
    "                  color='orange', hist_kws={'edgecolor':'black'}, kde_kws={'linewidth':2}, ax = axes[0])\n",
    "axes[0].set(xlabel='Magnitude', ylabel='Frequency', title=\"Distribution of Natual Earthquake Magnitude\")\n",
    "\n",
    "# plot axes[1]\n",
    "axes[1] = sns.distplot(CA_earthquake[CA_earthquake['type'] == 'quarry blast']['mag'], bins = 30, hist=True, kde=True, \\\n",
    "                  color='orange', hist_kws={'edgecolor':'black'}, kde_kws={'linewidth':2})\n",
    "axes[1].set(xlabel='Magnitude', ylabel='Frequency', title=\"Distribution of Quarry Blast Magnitude\")\n",
    "\n",
    "# add the title to fig\n",
    "fig.suptitle('Distribution of Different Kind of Earthquakes')"
   ]
  },
  {
   "cell_type": "code",
   "execution_count": 24,
   "metadata": {},
   "outputs": [
    {
     "data": {
      "text/plain": [
       "Text(0.5, 0.98, 'Distribution of Different Kind of Earthquakes')"
      ]
     },
     "execution_count": 24,
     "metadata": {},
     "output_type": "execute_result"
    },
    {
     "data": {
      "image/png": "[encoded data removed]",
      "text/plain": [
       "<Figure size 864x360 with 2 Axes>"
      ]
     },
     "metadata": {
      "needs_background": "light"
     },
     "output_type": "display_data"
    }
   ],
   "source": [
    "fig, axes = plt.subplots(1, 2, constrained_layout = True, figsize = [12, 5])\n",
    "\n",
    "# plot axes[0]\n",
    "sns.distplot(housing_earthquake['quarry_blast'], bins = 30, hist=True, kde=True, \\\n",
    "                  color='green', hist_kws={'edgecolor':'black'}, kde_kws={'linewidth':1}, ax = axes[0])\n",
    "axes[0].set(xlabel='Number of Quarry Blast', ylabel='Frequency', title = \"Distribution of the amount of Quarry Blast\")\n",
    "\n",
    "# plot axes[1]\n",
    "sns.distplot(housing_earthquake['earthquake'], bins = 30, hist=True, kde=True, \\\n",
    "                  color='green', hist_kws={'edgecolor':'black'}, kde_kws={'linewidth':1}, ax = axes[1])\n",
    "axes[1].set(xlabel='Number of Earthquake', ylabel='Frequency', title = \"Distribution of the amount of Earthquake\")\n",
    "\n",
    "# add the title to fig\n",
    "fig.suptitle('Distribution of Different Kind of Earthquakes')"
   ]
  },
  {
   "cell_type": "markdown",
   "metadata": {},
   "source": [
    "The below histogram shows a right tailed distribution. It means that most regions have 0 to 25 natural earthquakes. "
   ]
  },
  {
   "cell_type": "code",
   "execution_count": 25,
   "metadata": {},
   "outputs": [
    {
     "data": {
      "text/plain": [
       "[Text(0.5, 0, 'Number of Earthquake'),\n",
       " Text(0, 0.5, 'Frequency'),\n",
       " Text(0.5, 1.0, 'Distribution of the Amount of All Kinds of Earthquake')]"
      ]
     },
     "execution_count": 25,
     "metadata": {},
     "output_type": "execute_result"
    },
    {
     "data": {
      "image/png": "[encoded data removed]",
      "text/plain": [
       "<Figure size 576x432 with 1 Axes>"
      ]
     },
     "metadata": {
      "needs_background": "light"
     },
     "output_type": "display_data"
    }
   ],
   "source": [
    "ax = sns.distplot(housing_earthquake['total_earthquake'], bins = 30, hist=True, kde=True, \\\n",
    "                  color='green', hist_kws={'edgecolor':'black'}, kde_kws={'linewidth':1})\n",
    "ax.set(xlabel='Number of Earthquake', \\\n",
    "       ylabel='Frequency', title = \"Distribution of the Amount of All Kinds of Earthquake\")"
   ]
  },
  {
   "cell_type": "code",
   "execution_count": 26,
   "metadata": {},
   "outputs": [
    {
     "data": {
      "text/plain": [
       "Text(0.5, 0.98, 'Distribution of Different Median Age and Income')"
      ]
     },
     "execution_count": 26,
     "metadata": {},
     "output_type": "execute_result"
    },
    {
     "data": {
      "image/png": "[encoded data removed]",
      "text/plain": [
       "<Figure size 864x360 with 2 Axes>"
      ]
     },
     "metadata": {
      "needs_background": "light"
     },
     "output_type": "display_data"
    }
   ],
   "source": [
    "fig, axes = plt.subplots(1, 2, constrained_layout = True, figsize = [12, 5])\n",
    "# housing_median_age + median_income\n",
    "# plot axes[0]\n",
    "sns.distplot(housing_earthquake['housing_median_age'], bins = 30, hist=True, kde=True, \\\n",
    "                  color='blue', hist_kws={'edgecolor':'black'}, kde_kws={'linewidth':1}, ax = axes[0])\n",
    "axes[0].set(xlabel='Age', ylabel='Frequency', title = \"Distribution of the Housing Median Age\")\n",
    "\n",
    "# plot axes[1]\n",
    "sns.distplot(housing_earthquake['median_income'], bins = 30, hist=True, kde=True, \\\n",
    "                  color='blue', hist_kws={'edgecolor':'black'}, kde_kws={'linewidth':1}, ax = axes[1])\n",
    "axes[1].set(xlabel='Incomee', ylabel='Frequency', title = \"Distribution of the Median Income\")\n",
    "\n",
    "# add the title to fig\n",
    "fig.suptitle('Distribution of Different Median Age and Income')"
   ]
  },
  {
   "cell_type": "markdown",
   "metadata": {},
   "source": [
    "### Analysis"
   ]
  },
  {
   "cell_type": "code",
   "execution_count": 27,
   "metadata": {},
   "outputs": [
    {
     "data": {
      "text/plain": [
       "<AxesSubplot:xlabel='total_earthquake', ylabel='median_house_value'>"
      ]
     },
     "execution_count": 27,
     "metadata": {},
     "output_type": "execute_result"
    },
    {
     "data": {
      "image/png": "[encoded data removed]",
      "text/plain": [
       "<Figure size 576x432 with 1 Axes>"
      ]
     },
     "metadata": {
      "needs_background": "light"
     },
     "output_type": "display_data"
    }
   ],
   "source": [
    "all_earthquake_dist = housing_earthquake.groupby(['total_earthquake'])[['median_house_value']].mean().reset_index()\n",
    "sns.regplot(data = all_earthquake_dist, x = 'total_earthquake', y = 'median_house_value')"
   ]
  },
  {
   "cell_type": "code",
   "execution_count": 28,
   "metadata": {},
   "outputs": [
    {
     "name": "stdout",
     "output_type": "stream",
     "text": [
      "                            OLS Regression Results                            \n",
      "==============================================================================\n",
      "Dep. Variable:     median_house_value   R-squared:                       0.004\n",
      "Model:                            OLS   Adj. R-squared:                  0.004\n",
      "Method:                 Least Squares   F-statistic:                     73.83\n",
      "Date:                Tue, 07 Jun 2022   Prob (F-statistic):           9.13e-18\n",
      "Time:                        09:54:21   Log-Likelihood:                -29226.\n",
      "No. Observations:               20624   AIC:                         5.846e+04\n",
      "Df Residuals:                   20622   BIC:                         5.847e+04\n",
      "Df Model:                           1                                         \n",
      "Covariance Type:            nonrobust                                         \n",
      "====================================================================================\n",
      "                       coef    std err          t      P>|t|      [0.025      0.975]\n",
      "------------------------------------------------------------------------------------\n",
      "Intercept            0.0014      0.007      0.203      0.839      -0.012       0.015\n",
      "total_earthquake     0.0653      0.008      8.592      0.000       0.050       0.080\n",
      "==============================================================================\n",
      "Omnibus:                     2470.813   Durbin-Watson:                   0.310\n",
      "Prob(Omnibus):                  0.000   Jarque-Bera (JB):             3453.863\n",
      "Skew:                           0.988   Prob(JB):                         0.00\n",
      "Kurtosis:                       3.338   Cond. No.                         1.09\n",
      "==============================================================================\n",
      "\n",
      "Notes:\n",
      "[1] Standard Errors assume that the covariance matrix of the errors is correctly specified.\n"
     ]
    }
   ],
   "source": [
    "outcome, predictors = patsy.dmatrices('median_house_value ~ total_earthquake', housing_earthquake)\n",
    "model_all_earthquake = sm.OLS(outcome, predictors)\n",
    "print(model_all_earthquake.fit().summary())"
   ]
  },
  {
   "cell_type": "code",
   "execution_count": 29,
   "metadata": {},
   "outputs": [
    {
     "data": {
      "text/plain": [
       "<AxesSubplot:xlabel='earthquake', ylabel='median_house_value'>"
      ]
     },
     "execution_count": 29,
     "metadata": {},
     "output_type": "execute_result"
    },
    {
     "data": {
      "image/png": "[encoded data removed]",
      "text/plain": [
       "<Figure size 1008x360 with 2 Axes>"
      ]
     },
     "metadata": {
      "needs_background": "light"
     },
     "output_type": "display_data"
    }
   ],
   "source": [
    "plt.rcParams['figure.figsize'] = [14, 5]\n",
    "\n",
    "# Extract the columns that we want to analyze\n",
    "f, axes = plt.subplots(1,2)\n",
    "f.suptitle('Relationship between different kinds of earthquakes and housing price.', fontsize=20)\n",
    "\n",
    "# Plotting\n",
    "blast_dist = housing_earthquake.groupby('quarry_blast')[['median_house_value']].mean().reset_index()\n",
    "sns.regplot(data = blast_dist, x = 'quarry_blast', y = 'median_house_value', ax=axes[0])\n",
    "\n",
    "earthquake_dist = housing_earthquake.groupby(['earthquake'])[['median_house_value']].mean().reset_index()\n",
    "sns.regplot(data = earthquake_dist, x = 'earthquake', y = 'median_house_value', ax=axes[1])"
   ]
  },
  {
   "cell_type": "code",
   "execution_count": 30,
   "metadata": {},
   "outputs": [
    {
     "name": "stdout",
     "output_type": "stream",
     "text": [
      "                            OLS Regression Results                            \n",
      "==============================================================================\n",
      "Dep. Variable:     median_house_value   R-squared:                       0.008\n",
      "Model:                            OLS   Adj. R-squared:                  0.008\n",
      "Method:                 Least Squares   F-statistic:                     86.95\n",
      "Date:                Tue, 07 Jun 2022   Prob (F-statistic):           2.50e-38\n",
      "Time:                        09:54:22   Log-Likelihood:                -29176.\n",
      "No. Observations:               20624   AIC:                         5.836e+04\n",
      "Df Residuals:                   20621   BIC:                         5.838e+04\n",
      "Df Model:                           2                                         \n",
      "Covariance Type:            nonrobust                                         \n",
      "================================================================================\n",
      "                   coef    std err          t      P>|t|      [0.025      0.975]\n",
      "--------------------------------------------------------------------------------\n",
      "Intercept        0.0009      0.007      0.132      0.895      -0.013       0.015\n",
      "earthquake       0.0744      0.008      9.830      0.000       0.060       0.089\n",
      "quarry_blast    -0.0778      0.009     -8.837      0.000      -0.095      -0.061\n",
      "==============================================================================\n",
      "Omnibus:                     2405.210   Durbin-Watson:                   0.313\n",
      "Prob(Omnibus):                  0.000   Jarque-Bera (JB):             3334.299\n",
      "Skew:                           0.971   Prob(JB):                         0.00\n",
      "Kurtosis:                       3.326   Cond. No.                         1.27\n",
      "==============================================================================\n",
      "\n",
      "Notes:\n",
      "[1] Standard Errors assume that the covariance matrix of the errors is correctly specified.\n"
     ]
    }
   ],
   "source": [
    "outcome, predictors = patsy.dmatrices('median_house_value ~ earthquake + quarry_blast', housing_earthquake)\n",
    "model_diff_earthquake = sm.OLS(outcome, predictors)\n",
    "print(model_diff_earthquake.fit().summary())"
   ]
  },
  {
   "cell_type": "code",
   "execution_count": 31,
   "metadata": {},
   "outputs": [
    {
     "data": {
      "text/html": [
       "<div>\n",
       "<style scoped>\n",
       "    .dataframe tbody tr th:only-of-type {\n",
       "        vertical-align: middle;\n",
       "    }\n",
       "\n",
       "    .dataframe tbody tr th {\n",
       "        vertical-align: top;\n",
       "    }\n",
       "\n",
       "    .dataframe thead th {\n",
       "        text-align: right;\n",
       "    }\n",
       "</style>\n",
       "<table border=\"1\" class=\"dataframe\">\n",
       "  <thead>\n",
       "    <tr style=\"text-align: right;\">\n",
       "      <th></th>\n",
       "      <th>housing_median_age</th>\n",
       "      <th>median_income</th>\n",
       "      <th>median_house_value</th>\n",
       "      <th>ocean_proximity</th>\n",
       "      <th>earthquake</th>\n",
       "      <th>quarry_blast</th>\n",
       "      <th>total_earthquake</th>\n",
       "    </tr>\n",
       "  </thead>\n",
       "  <tbody>\n",
       "    <tr>\n",
       "      <th>0</th>\n",
       "      <td>0.982119</td>\n",
       "      <td>2.344709</td>\n",
       "      <td>2.129580</td>\n",
       "      <td>NEAR BAY</td>\n",
       "      <td>0.066359</td>\n",
       "      <td>-0.17882</td>\n",
       "      <td>0.039857</td>\n",
       "    </tr>\n",
       "    <tr>\n",
       "      <th>1</th>\n",
       "      <td>-0.607004</td>\n",
       "      <td>2.332181</td>\n",
       "      <td>1.314124</td>\n",
       "      <td>NEAR BAY</td>\n",
       "      <td>0.113755</td>\n",
       "      <td>-0.17882</td>\n",
       "      <td>0.086760</td>\n",
       "    </tr>\n",
       "    <tr>\n",
       "      <th>2</th>\n",
       "      <td>1.856137</td>\n",
       "      <td>1.782656</td>\n",
       "      <td>1.258663</td>\n",
       "      <td>NEAR BAY</td>\n",
       "      <td>0.255943</td>\n",
       "      <td>-0.17882</td>\n",
       "      <td>0.227471</td>\n",
       "    </tr>\n",
       "    <tr>\n",
       "      <th>3</th>\n",
       "      <td>1.856137</td>\n",
       "      <td>0.932945</td>\n",
       "      <td>1.165072</td>\n",
       "      <td>NEAR BAY</td>\n",
       "      <td>0.113755</td>\n",
       "      <td>-0.17882</td>\n",
       "      <td>0.086760</td>\n",
       "    </tr>\n",
       "    <tr>\n",
       "      <th>4</th>\n",
       "      <td>1.856137</td>\n",
       "      <td>-0.012881</td>\n",
       "      <td>1.172871</td>\n",
       "      <td>NEAR BAY</td>\n",
       "      <td>0.113755</td>\n",
       "      <td>-0.17882</td>\n",
       "      <td>0.086760</td>\n",
       "    </tr>\n",
       "    <tr>\n",
       "      <th>...</th>\n",
       "      <td>...</td>\n",
       "      <td>...</td>\n",
       "      <td>...</td>\n",
       "      <td>...</td>\n",
       "      <td>...</td>\n",
       "      <td>...</td>\n",
       "      <td>...</td>\n",
       "    </tr>\n",
       "    <tr>\n",
       "      <th>20635</th>\n",
       "      <td>-0.289180</td>\n",
       "      <td>-1.216099</td>\n",
       "      <td>-1.115777</td>\n",
       "      <td>INLAND</td>\n",
       "      <td>-0.549788</td>\n",
       "      <td>-0.17882</td>\n",
       "      <td>-0.569889</td>\n",
       "    </tr>\n",
       "    <tr>\n",
       "      <th>20636</th>\n",
       "      <td>-0.845373</td>\n",
       "      <td>-0.691576</td>\n",
       "      <td>-1.124443</td>\n",
       "      <td>INLAND</td>\n",
       "      <td>-0.502392</td>\n",
       "      <td>-0.17882</td>\n",
       "      <td>-0.522985</td>\n",
       "    </tr>\n",
       "    <tr>\n",
       "      <th>20637</th>\n",
       "      <td>-0.924829</td>\n",
       "      <td>-1.142566</td>\n",
       "      <td>-0.992722</td>\n",
       "      <td>INLAND</td>\n",
       "      <td>-0.502392</td>\n",
       "      <td>-0.17882</td>\n",
       "      <td>-0.522985</td>\n",
       "    </tr>\n",
       "    <tr>\n",
       "      <th>20638</th>\n",
       "      <td>-0.845373</td>\n",
       "      <td>-1.054557</td>\n",
       "      <td>-1.058583</td>\n",
       "      <td>INLAND</td>\n",
       "      <td>-0.502392</td>\n",
       "      <td>-0.17882</td>\n",
       "      <td>-0.522985</td>\n",
       "    </tr>\n",
       "    <tr>\n",
       "      <th>20639</th>\n",
       "      <td>-1.004285</td>\n",
       "      <td>-0.780111</td>\n",
       "      <td>-1.017853</td>\n",
       "      <td>INLAND</td>\n",
       "      <td>-0.502392</td>\n",
       "      <td>-0.17882</td>\n",
       "      <td>-0.522985</td>\n",
       "    </tr>\n",
       "  </tbody>\n",
       "</table>\n",
       "<p>20624 rows × 7 columns</p>\n",
       "</div>"
      ],
      "text/plain": [
       "       housing_median_age  median_income  median_house_value ocean_proximity  \\\n",
       "0                0.982119       2.344709            2.129580        NEAR BAY   \n",
       "1               -0.607004       2.332181            1.314124        NEAR BAY   \n",
       "2                1.856137       1.782656            1.258663        NEAR BAY   \n",
       "3                1.856137       0.932945            1.165072        NEAR BAY   \n",
       "4                1.856137      -0.012881            1.172871        NEAR BAY   \n",
       "...                   ...            ...                 ...             ...   \n",
       "20635           -0.289180      -1.216099           -1.115777          INLAND   \n",
       "20636           -0.845373      -0.691576           -1.124443          INLAND   \n",
       "20637           -0.924829      -1.142566           -0.992722          INLAND   \n",
       "20638           -0.845373      -1.054557           -1.058583          INLAND   \n",
       "20639           -1.004285      -0.780111           -1.017853          INLAND   \n",
       "\n",
       "       earthquake  quarry_blast  total_earthquake  \n",
       "0        0.066359      -0.17882          0.039857  \n",
       "1        0.113755      -0.17882          0.086760  \n",
       "2        0.255943      -0.17882          0.227471  \n",
       "3        0.113755      -0.17882          0.086760  \n",
       "4        0.113755      -0.17882          0.086760  \n",
       "...           ...           ...               ...  \n",
       "20635   -0.549788      -0.17882         -0.569889  \n",
       "20636   -0.502392      -0.17882         -0.522985  \n",
       "20637   -0.502392      -0.17882         -0.522985  \n",
       "20638   -0.502392      -0.17882         -0.522985  \n",
       "20639   -0.502392      -0.17882         -0.522985  \n",
       "\n",
       "[20624 rows x 7 columns]"
      ]
     },
     "execution_count": 31,
     "metadata": {},
     "output_type": "execute_result"
    }
   ],
   "source": [
    "housing_earthquake"
   ]
  },
  {
   "cell_type": "code",
   "execution_count": 32,
   "metadata": {},
   "outputs": [
    {
     "data": {
      "text/plain": [
       "<AxesSubplot:xlabel='median_income', ylabel='median_house_value'>"
      ]
     },
     "execution_count": 32,
     "metadata": {},
     "output_type": "execute_result"
    },
    {
     "data": {
      "image/png": "[encoded data removed]",
      "text/plain": [
       "<Figure size 1008x360 with 2 Axes>"
      ]
     },
     "metadata": {
      "needs_background": "light"
     },
     "output_type": "display_data"
    }
   ],
   "source": [
    "plt.rcParams['figure.figsize'] = [14, 5]\n",
    "\n",
    "# Extract the columns that we want to analyze\n",
    "f, axes = plt.subplots(1,2)\n",
    "f.suptitle('Relationship between different kinds of earthquakes and housing price.', fontsize=20)\n",
    "\n",
    "# Plotting\n",
    "sns.regplot(data = housing_earthquake, x = 'housing_median_age', y = 'median_house_value', line_kws={\"color\": \"red\"} , ax=axes[0])\n",
    "sns.regplot(data = housing_earthquake, x = 'median_income', y = 'median_house_value', line_kws={\"color\": \"red\"}, ax=axes[1])"
   ]
  },
  {
   "cell_type": "code",
   "execution_count": 33,
   "metadata": {},
   "outputs": [
    {
     "name": "stdout",
     "output_type": "stream",
     "text": [
      "                            OLS Regression Results                            \n",
      "==============================================================================\n",
      "Dep. Variable:     median_house_value   R-squared:                       0.011\n",
      "Model:                            OLS   Adj. R-squared:                  0.011\n",
      "Method:                 Least Squares   F-statistic:                     230.1\n",
      "Date:                Tue, 07 Jun 2022   Prob (F-statistic):           1.10e-51\n",
      "Time:                        09:54:24   Log-Likelihood:                -29149.\n",
      "No. Observations:               20624   AIC:                         5.830e+04\n",
      "Df Residuals:                   20622   BIC:                         5.832e+04\n",
      "Df Model:                           1                                         \n",
      "Covariance Type:            nonrobust                                         \n",
      "======================================================================================\n",
      "                         coef    std err          t      P>|t|      [0.025      0.975]\n",
      "--------------------------------------------------------------------------------------\n",
      "Intercept              0.0007      0.007      0.096      0.924      -0.013       0.014\n",
      "housing_median_age     0.1051      0.007     15.168      0.000       0.091       0.119\n",
      "==============================================================================\n",
      "Omnibus:                     2266.373   Durbin-Watson:                   0.325\n",
      "Prob(Omnibus):                  0.000   Jarque-Bera (JB):             3088.737\n",
      "Skew:                           0.938   Prob(JB):                         0.00\n",
      "Kurtosis:                       3.280   Cond. No.                         1.00\n",
      "==============================================================================\n",
      "\n",
      "Notes:\n",
      "[1] Standard Errors assume that the covariance matrix of the errors is correctly specified.\n"
     ]
    }
   ],
   "source": [
    "outcome, predictors = patsy.dmatrices('median_house_value ~ housing_median_age', housing_earthquake)\n",
    "model_median_age = sm.OLS(outcome, predictors)\n",
    "print(model_median_age.fit().summary())"
   ]
  },
  {
   "cell_type": "code",
   "execution_count": 34,
   "metadata": {},
   "outputs": [
    {
     "name": "stdout",
     "output_type": "stream",
     "text": [
      "                            OLS Regression Results                            \n",
      "==============================================================================\n",
      "Dep. Variable:     median_house_value   R-squared:                       0.473\n",
      "Model:                            OLS   Adj. R-squared:                  0.473\n",
      "Method:                 Least Squares   F-statistic:                 1.854e+04\n",
      "Date:                Tue, 07 Jun 2022   Prob (F-statistic):               0.00\n",
      "Time:                        09:54:24   Log-Likelihood:                -22649.\n",
      "No. Observations:               20624   AIC:                         4.530e+04\n",
      "Df Residuals:                   20622   BIC:                         4.532e+04\n",
      "Df Model:                           1                                         \n",
      "Covariance Type:            nonrobust                                         \n",
      "=================================================================================\n",
      "                    coef    std err          t      P>|t|      [0.025      0.975]\n",
      "---------------------------------------------------------------------------------\n",
      "Intercept         0.0005      0.005      0.104      0.918      -0.009       0.010\n",
      "median_income     0.6879      0.005    136.174      0.000       0.678       0.698\n",
      "==============================================================================\n",
      "Omnibus:                     4242.905   Durbin-Watson:                   0.654\n",
      "Prob(Omnibus):                  0.000   Jarque-Bera (JB):             9264.784\n",
      "Skew:                           1.191   Prob(JB):                         0.00\n",
      "Kurtosis:                       5.259   Cond. No.                         1.00\n",
      "==============================================================================\n",
      "\n",
      "Notes:\n",
      "[1] Standard Errors assume that the covariance matrix of the errors is correctly specified.\n"
     ]
    }
   ],
   "source": [
    "outcome, predictors = patsy.dmatrices('median_house_value ~ median_income', housing_earthquake)\n",
    "model_median_income = sm.OLS(outcome, predictors)\n",
    "print(model_median_income.fit().summary())"
   ]
  },
  {
   "cell_type": "code",
   "execution_count": 35,
   "metadata": {},
   "outputs": [
    {
     "name": "stdout",
     "output_type": "stream",
     "text": [
      "                            OLS Regression Results                            \n",
      "==============================================================================\n",
      "Dep. Variable:     median_house_value   R-squared:                       0.017\n",
      "Model:                            OLS   Adj. R-squared:                  0.017\n",
      "Method:                 Least Squares   F-statistic:                     116.6\n",
      "Date:                Tue, 07 Jun 2022   Prob (F-statistic):           7.41e-75\n",
      "Time:                        09:54:24   Log-Likelihood:                -29090.\n",
      "No. Observations:               20624   AIC:                         5.819e+04\n",
      "Df Residuals:                   20620   BIC:                         5.822e+04\n",
      "Df Model:                           3                                         \n",
      "Covariance Type:            nonrobust                                         \n",
      "======================================================================================\n",
      "                         coef    std err          t      P>|t|      [0.025      0.975]\n",
      "--------------------------------------------------------------------------------------\n",
      "Intercept              0.0008      0.007      0.123      0.902      -0.013       0.014\n",
      "housing_median_age     0.0925      0.007     13.204      0.000       0.079       0.106\n",
      "earthquake             0.0635      0.008      8.379      0.000       0.049       0.078\n",
      "quarry_blast          -0.0627      0.009     -7.094      0.000      -0.080      -0.045\n",
      "==============================================================================\n",
      "Omnibus:                     2267.206   Durbin-Watson:                   0.325\n",
      "Prob(Omnibus):                  0.000   Jarque-Bera (JB):             3090.129\n",
      "Skew:                           0.938   Prob(JB):                         0.00\n",
      "Kurtosis:                       3.280   Cond. No.                         1.34\n",
      "==============================================================================\n",
      "\n",
      "Notes:\n",
      "[1] Standard Errors assume that the covariance matrix of the errors is correctly specified.\n"
     ]
    }
   ],
   "source": [
    "outcome, predictors = patsy.dmatrices('median_house_value ~ housing_median_age + earthquake + quarry_blast', housing_earthquake)\n",
    "model_median_age_earthquake = sm.OLS(outcome, predictors)\n",
    "print(model_median_age_earthquake.fit().summary())"
   ]
  },
  {
   "cell_type": "code",
   "execution_count": 36,
   "metadata": {},
   "outputs": [
    {
     "name": "stdout",
     "output_type": "stream",
     "text": [
      "                            OLS Regression Results                            \n",
      "==============================================================================\n",
      "Dep. Variable:     median_house_value   R-squared:                       0.481\n",
      "Model:                            OLS   Adj. R-squared:                  0.481\n",
      "Method:                 Least Squares   F-statistic:                     6375.\n",
      "Date:                Tue, 07 Jun 2022   Prob (F-statistic):               0.00\n",
      "Time:                        09:54:24   Log-Likelihood:                -22496.\n",
      "No. Observations:               20624   AIC:                         4.500e+04\n",
      "Df Residuals:                   20620   BIC:                         4.503e+04\n",
      "Df Model:                           3                                         \n",
      "Covariance Type:            nonrobust                                         \n",
      "=================================================================================\n",
      "                    coef    std err          t      P>|t|      [0.025      0.975]\n",
      "---------------------------------------------------------------------------------\n",
      "Intercept         0.0005      0.005      0.101      0.920      -0.009       0.010\n",
      "median_income     0.6876      0.005    137.089      0.000       0.678       0.697\n",
      "earthquake        0.0603      0.005     11.010      0.000       0.050       0.071\n",
      "quarry_blast     -0.0873      0.006    -13.703      0.000      -0.100      -0.075\n",
      "==============================================================================\n",
      "Omnibus:                     4339.817   Durbin-Watson:                   0.667\n",
      "Prob(Omnibus):                  0.000   Jarque-Bera (JB):             9821.158\n",
      "Skew:                           1.201   Prob(JB):                         0.00\n",
      "Kurtosis:                       5.379   Cond. No.                         1.27\n",
      "==============================================================================\n",
      "\n",
      "Notes:\n",
      "[1] Standard Errors assume that the covariance matrix of the errors is correctly specified.\n"
     ]
    }
   ],
   "source": [
    "outcome, predictors = patsy.dmatrices('median_house_value ~ median_income + earthquake + quarry_blast', housing_earthquake)\n",
    "model_median_income_earthquake = sm.OLS(outcome, predictors)\n",
    "print(model_median_income_earthquake.fit().summary())"
   ]
  },
  {
   "cell_type": "code",
   "execution_count": 37,
   "metadata": {},
   "outputs": [
    {
     "name": "stdout",
     "output_type": "stream",
     "text": [
      "                            OLS Regression Results                            \n",
      "==============================================================================\n",
      "Dep. Variable:     median_house_value   R-squared:                       0.512\n",
      "Model:                            OLS   Adj. R-squared:                  0.512\n",
      "Method:                 Least Squares   F-statistic:                     5414.\n",
      "Date:                Tue, 07 Jun 2022   Prob (F-statistic):               0.00\n",
      "Time:                        09:54:24   Log-Likelihood:                -21860.\n",
      "No. Observations:               20624   AIC:                         4.373e+04\n",
      "Df Residuals:                   20619   BIC:                         4.377e+04\n",
      "Df Model:                           4                                         \n",
      "Covariance Type:            nonrobust                                         \n",
      "======================================================================================\n",
      "                         coef    std err          t      P>|t|      [0.025      0.975]\n",
      "--------------------------------------------------------------------------------------\n",
      "Intercept              0.0004      0.005      0.073      0.942      -0.009       0.010\n",
      "housing_median_age     0.1801      0.005     36.224      0.000       0.170       0.190\n",
      "median_income          0.7092      0.005    144.738      0.000       0.700       0.719\n",
      "earthquake             0.0387      0.005      7.240      0.000       0.028       0.049\n",
      "quarry_blast          -0.0582      0.006     -9.349      0.000      -0.070      -0.046\n",
      "==============================================================================\n",
      "Omnibus:                     4157.508   Durbin-Watson:                   0.786\n",
      "Prob(Omnibus):                  0.000   Jarque-Bera (JB):            10020.224\n",
      "Skew:                           1.127   Prob(JB):                         0.00\n",
      "Kurtosis:                       5.566   Cond. No.                         1.39\n",
      "==============================================================================\n",
      "\n",
      "Notes:\n",
      "[1] Standard Errors assume that the covariance matrix of the errors is correctly specified.\n"
     ]
    }
   ],
   "source": [
    "outcome, predictors = patsy.dmatrices('median_house_value ~ housing_median_age + median_income + earthquake + quarry_blast', \\\n",
    "                                      housing_earthquake)\n",
    "model_all_factors = sm.OLS(outcome, predictors)\n",
    "print(model_all_factors.fit().summary())"
   ]
  },
  {
   "cell_type": "markdown",
   "metadata": {},
   "source": [
    "# Ethics & Privacy"
   ]
  },
  {
   "cell_type": "markdown",
   "metadata": {},
   "source": [
    "When it comes to ethics and privacy, the topics our group covers are rigorous and fair. We do not have any data privacy issues and equitable impact. Our data comes from kaggle and USGS websites, which means that our data are accurately measured and calculated. <br><br>\n",
    "There might be potential biases. First, there may be deviations in housing prices. When evaluating housing prices, it is not limited to the difference between artificial price increases and market prices. The daily price increases may be different. When discussing the earthquake risk areas, the government's decision must be taken into account. When the government decides which area is the earthquake-prone zone, housing prices may rise by 3%. Prices are all available and estimated. Second, the earthquake and housing prices data we use to analyze are around the 1990 census. Thus the trend at that time might be different from the current trend and situation. Third, there might be more factors causing the housing price increase in a certain area such as the population or environment. Thus, there might be more factors causing the increasing housing price other than earthquakes. <br><br>\n",
    "To avoid biases, we are trying our best to analyze cofactors. If we are certainly not sure about something, we will not analyze it or we will mention the actual result from the analysis.  We will also remove the outlier during the analysis to avoid the extreme situations. "
   ]
  },
  {
   "cell_type": "markdown",
   "metadata": {},
   "source": [
    "# Conclusion & Discussion"
   ]
  },
  {
   "cell_type": "markdown",
   "metadata": {},
   "source": [
    "Our research question is: \n",
    "**How does magnitude and frequency of earthquakes affect housing prices in California?**\n",
    " \n",
    "And Hypothesis:\n",
    "- There is a relationship between housing prices and earthquake magnitude and frequency in different regions of California. \n",
    "- The region with more earthquakes will have a higher housing price and the region with fewer earthquakes will have a lower housing price. \n",
    " \n",
    "**The magnitude and frequency of the earthquake do not appear to have much correlation with the housing prices in California.**\n",
    "\n",
    "Our data above provides a comprehensive analysis of the possible impact of earthquakes and California’s home prices. First, we analyze two different types of earthquakes, one is a natural earthquake and the other is an earthquake caused by a quarry explosion. We take the form of a histogram to demonstrate the release of variables for each graph. From our data between the x- and y-axes, the smaller the earthquake magnitude, the higher the frequency. As the magnitude of the earthquake increases, the frequency also decreases, eventually reaching zero. Then we'll put earthquake frequencies into segments of California housing prices. We can see from the histogram of the distribution of housing prices that the entire histogram presents a dual-modal release. The data on house prices and earthquake frequency are also ups and downs, and there are obvious differences. So we can't clearly see the impact of earthquake frequency on California house prices from these data. Maybe other factors have a greater relationship with house prices, but they have nothing to do with earthquakes\n",
    "\n",
    "\n",
    "**Limitations of our project:**\n",
    "\n",
    "We conclude that the relationship between earthquakes and housing prices in California is uncertain. We did encounter some limitations along the way. When we analyzed the OLS model, we found that OLS confirmed that the factors that are related, its r-square values are not particularly large enough. From this, we can tell that our analysis is not 100% accurate. Secondly, the data we use comes from many years ago, which may cause the ups and downs of house prices, or there are more other factors that affect house prices. Our bias may be that the factors in the housing market are really very uncertain, changing every day. Finally, we have no way to confirm whether the relationship between earthquakes and house prices is causality or just correlation. \n",
    "\n",
    "**Impact of this work on society：**\n",
    "\n",
    "A comfortable and safe area is often the first choice for people to buy a house. Our data analyzes the frequency of earthquakes of different magnitudes in California so that the public can better understand the types and frequencies of earthquakes. Our data comes from the U.S. Geological Survey, so major details including earthquakes are very accurate. Of course, there are also many uncertain factors in the occurrence of earthquakes, which are unavoidable in many cases. Our analysis can help the public to understand more about the differentiation of earthquakes to a certain extent. In addition to safety, housing prices are also of concern to people. However, the data shows that the frequency of earthquakes is uncertain for houses with different prices. There is no argument that the fewer earthquakes happen, the more expensive or cheaper the house will be. Our data helps the general public to better see the housing prices in California. There are too many uncertain factors, often not limited to earthquakes."
   ]
  },
  {
   "cell_type": "markdown",
   "metadata": {},
   "source": [
    "# Team Contributions"
   ]
  },
  {
   "cell_type": "markdown",
   "metadata": {},
   "source": [
    "Yuxin Guo:\n",
    "Background,\n",
    "Data cleaning,\n",
    "Data analysis\n",
    "\n",
    "Sha Lei:\n",
    "Background,\n",
    "Data description,\n",
    "Data analysis\n",
    "\n",
    "Jingxian Wang:\n",
    "Ethics and privacy,\n",
    "Distribution of data,\n",
    "Data description\n",
    "\n",
    "Jiayi Zhang:\n",
    "Ethics and privacy,\n",
    "Data cleaning,\n",
    "Conclusion"
   ]
  }
 ],
 "metadata": {
  "kernelspec": {
   "display_name": "Python 3 (ipykernel)",
   "language": "python",
   "name": "python3"
  },
  "language_info": {
   "codemirror_mode": {
    "name": "ipython",
    "version": 3
   },
   "file_extension": ".py",
   "mimetype": "text/x-python",
   "name": "python",
   "nbconvert_exporter": "python",
   "pygments_lexer": "ipython3",
   "version": "3.9.7"
  },
  "vscode": {
   "interpreter": {
    "hash": "0d5e5bb01b1fd755f614ead6421b792d5bc343511c07dd983d4236857e871c70"
   }
  }
 },
 "nbformat": 4,
 "nbformat_minor": 2
}
